{
 "cells": [
  {
   "cell_type": "markdown",
   "metadata": {},
   "source": [
    "# Introduction"
   ]
  },
  {
   "cell_type": "markdown",
   "metadata": {},
   "source": [
    "While a script to run the classification is available in this folder, this notebook performs nonetheless a classification. The idea is to have an environment to comment the choices and the results obtained."
   ]
  },
  {
   "cell_type": "markdown",
   "metadata": {
    "heading_collapsed": true
   },
   "source": [
    "# Classification on Simulated"
   ]
  },
  {
   "cell_type": "markdown",
   "metadata": {
    "hidden": true
   },
   "source": [
    "Since the only data available to train a classifier come from the [ExtremeWeather dataset](https://extremeweatherdataset.github.io), I shall us it. The preparation for the train dataset is not performed here though.\n",
    "\n",
    "This data loaded here are two sets of $120\\times120$ images, depicting either a cyclon (positive) or not a cyclon (negative). A notice: the actual ExtremeWeather dataset distinguishes between land and seas cyclones, while here the distinction is not taken. \n",
    "For more information as to the data was prepared, that is how the images were selected starting from the whole globe image, see the script ```prepare_data.py```."
   ]
  },
  {
   "cell_type": "markdown",
   "metadata": {
    "hidden": true
   },
   "source": [
    "**NB** For some reason, if I run the training using the notebook, the model does not learn. I thus decided just run the train script from the notebook."
   ]
  },
  {
   "cell_type": "markdown",
   "metadata": {
    "hidden": true
   },
   "source": [
    "The different settings can be implemented using the ```config_var.yml``` available in this folder."
   ]
  },
  {
   "cell_type": "code",
   "execution_count": 2,
   "metadata": {
    "ExecuteTime": {
     "end_time": "2021-04-28T10:12:02.182371Z",
     "start_time": "2021-04-28T10:07:32.174731Z"
    },
    "hidden": true
   },
   "outputs": [
    {
     "name": "stdout",
     "output_type": "stream",
     "text": [
      "[INFO] Loading vars\n",
      "[INFO] Loading data from hdf5 file.\n",
      "[INFO] RAM usage for data array: 10.54GB\n",
      "[INFO] Preparing train-test split.\n",
      "[INFO] Loading base VGG model.\n",
      "[INFO] One-dimensional channel mode activated\n",
      "2021-04-28 12:08:52.937365: I tensorflow/compiler/jit/xla_cpu_device.cc:41] Not creating XLA devices, tf_xla_enable_xla_devices not set\n",
      "2021-04-28 12:08:52.937593: I tensorflow/core/platform/cpu_feature_guard.cc:142] This TensorFlow binary is optimized with oneAPI Deep Neural Network Library (oneDNN) to use the following CPU instructions in performance-critical operations:  AVX2 FMA\n",
      "To enable them in other operations, rebuild TensorFlow with the appropriate compiler flags.\n",
      "2021-04-28 12:08:52.948854: I tensorflow/compiler/mlir/mlir_graph_optimization_pass.cc:196] None of the MLIR optimization passes are enabled (registered 0 passes)\n",
      "[INFO] Using VGG as feature extractor and then training new model.\n",
      "train_classifier.py:128: UserWarning: This method uses more memory. If you want to save memory, set memory_efficient to True. It will instruct the program to run the feature extraction phase at training time (MUCH SLOWER.)\n",
      "  warn(\"This method uses more memory. If you want to save memory, set memory_efficient to True. It will instruct the program to run the feature extraction phase at training time (MUCH SLOWER.)\")\n",
      "/Users/leonardoalchieri/anaconda3/envs/tf_apple_2/lib/python3.8/site-packages/tensorflow/python/keras/engine/training.py:2325: UserWarning: `Model.state_updates` will be removed in a future version. This property should not be used in TensorFlow 2.0, as `updates` are applied automatically.\n",
      "  warnings.warn('`Model.state_updates` will be removed in a future version. '\n",
      "[INFO] Creating new model\n",
      "[INFO] Compiling model.\n",
      "[INFO] Model traning.\n",
      "Train on 8005 samples, validate on 3431 samples\n",
      "Epoch 1/20\n",
      "8005/8005 [==============================] - 4s 552us/sample - loss: 0.9443 - accuracy: 0.7418 - val_loss: 0.4370 - val_accuracy: 0.8082\n",
      "Epoch 2/20\n",
      "8005/8005 [==============================] - 4s 504us/sample - loss: 0.4362 - accuracy: 0.8207 - val_loss: 0.3570 - val_accuracy: 0.8534\n",
      "Epoch 3/20\n",
      "8005/8005 [==============================] - 4s 505us/sample - loss: 0.3470 - accuracy: 0.8620 - val_loss: 0.3224 - val_accuracy: 0.8700\n",
      "Epoch 4/20\n",
      "8005/8005 [==============================] - 4s 502us/sample - loss: 0.3012 - accuracy: 0.8772 - val_loss: 0.2967 - val_accuracy: 0.8930\n",
      "Epoch 5/20\n",
      "8005/8005 [==============================] - 4s 499us/sample - loss: 0.2613 - accuracy: 0.8909 - val_loss: 0.2879 - val_accuracy: 0.8872\n",
      "Epoch 6/20\n",
      "8005/8005 [==============================] - 4s 504us/sample - loss: 0.2471 - accuracy: 0.9026 - val_loss: 0.2630 - val_accuracy: 0.8994\n",
      "Epoch 7/20\n",
      "8005/8005 [==============================] - 4s 500us/sample - loss: 0.2300 - accuracy: 0.9102 - val_loss: 0.2558 - val_accuracy: 0.9094\n",
      "Epoch 8/20\n",
      "8005/8005 [==============================] - 4s 512us/sample - loss: 0.2024 - accuracy: 0.9203 - val_loss: 0.2550 - val_accuracy: 0.9056\n",
      "Epoch 9/20\n",
      "8005/8005 [==============================] - 4s 501us/sample - loss: 0.1995 - accuracy: 0.9237 - val_loss: 0.2568 - val_accuracy: 0.9094\n",
      "Epoch 10/20\n",
      "8005/8005 [==============================] - 4s 503us/sample - loss: 0.1833 - accuracy: 0.9307 - val_loss: 0.2571 - val_accuracy: 0.9108\n",
      "Epoch 11/20\n",
      "8005/8005 [==============================] - 4s 508us/sample - loss: 0.1633 - accuracy: 0.9349 - val_loss: 0.2444 - val_accuracy: 0.9158\n",
      "Epoch 12/20\n",
      "8005/8005 [==============================] - 4s 528us/sample - loss: 0.1548 - accuracy: 0.9423 - val_loss: 0.2423 - val_accuracy: 0.9143\n",
      "Epoch 13/20\n",
      "8005/8005 [==============================] - 4s 496us/sample - loss: 0.1378 - accuracy: 0.9448 - val_loss: 0.2472 - val_accuracy: 0.9184\n",
      "Epoch 14/20\n",
      "8005/8005 [==============================] - 4s 504us/sample - loss: 0.1266 - accuracy: 0.9517 - val_loss: 0.2588 - val_accuracy: 0.9178\n",
      "Epoch 15/20\n",
      "8005/8005 [==============================] - 4s 504us/sample - loss: 0.1344 - accuracy: 0.9458 - val_loss: 0.2637 - val_accuracy: 0.9164\n",
      "Epoch 16/20\n",
      "8005/8005 [==============================] - 4s 509us/sample - loss: 0.1206 - accuracy: 0.9538 - val_loss: 0.2636 - val_accuracy: 0.9204\n",
      "Epoch 17/20\n",
      "8005/8005 [==============================] - 4s 508us/sample - loss: 0.1224 - accuracy: 0.9547 - val_loss: 0.2826 - val_accuracy: 0.9091\n",
      "Epoch 18/20\n",
      "8005/8005 [==============================] - 4s 505us/sample - loss: 0.1132 - accuracy: 0.9555 - val_loss: 0.2496 - val_accuracy: 0.9172\n",
      "Epoch 19/20\n",
      "8005/8005 [==============================] - 4s 507us/sample - loss: 0.1098 - accuracy: 0.9584 - val_loss: 0.2693 - val_accuracy: 0.9198\n",
      "Epoch 20/20\n",
      "8005/8005 [==============================] - 4s 508us/sample - loss: 0.1079 - accuracy: 0.9577 - val_loss: 0.2588 - val_accuracy: 0.9210\n",
      "[INFO] Final test accuracy: 0.92\n",
      "[INFO] Training completed.\n",
      "[INFO] Saving model\n",
      "2021-04-28 12:12:00.229758: W tensorflow/python/util/util.cc:348] Sets are not currently considered sequences, but this may change in the future, so consider avoiding using them.\n",
      "WARNING:tensorflow:FOR KERAS USERS: The object that you are saving contains one or more Keras models or layers. If you are loading the SavedModel with `tf.keras.models.load_model`, continue reading (otherwise, you may ignore the following instructions). Please change your code to save with `tf.keras.models.save_model` or `model.save`, and confirm that the file \"keras.metadata\" exists in the export directory. In the future, Keras will only load the SavedModels that have this file. In other words, `tf.saved_model.save` will no longer write SavedModels that can be recovered as Keras models (this will apply in TF 2.5).\n",
      "\n",
      "FOR DEVS: If you are overwriting _tracking_metadata in your class, this property has been used to save metadata in the SavedModel. The metadta field will be deprecated soon, so please move the metadata to a different file.\n",
      "Figure(1000x1000)\n"
     ]
    }
   ],
   "source": [
    "# slicing on 15\n",
    "!python3 train_classifier.py"
   ]
  },
  {
   "cell_type": "code",
   "execution_count": 3,
   "metadata": {
    "ExecuteTime": {
     "end_time": "2021-04-28T10:18:08.126824Z",
     "start_time": "2021-04-28T10:13:31.531001Z"
    },
    "hidden": true
   },
   "outputs": [
    {
     "name": "stdout",
     "output_type": "stream",
     "text": [
      "[INFO] Loading vars\n",
      "[INFO] Loading data from hdf5 file.\n",
      "[INFO] RAM usage for data array: 10.54GB\n",
      "[INFO] Preparing train-test split.\n",
      "[INFO] Loading base VGG model.\n",
      "[INFO] One-dimensional channel mode activated\n",
      "2021-04-28 12:14:55.547678: I tensorflow/compiler/jit/xla_cpu_device.cc:41] Not creating XLA devices, tf_xla_enable_xla_devices not set\n",
      "2021-04-28 12:14:55.547899: I tensorflow/core/platform/cpu_feature_guard.cc:142] This TensorFlow binary is optimized with oneAPI Deep Neural Network Library (oneDNN) to use the following CPU instructions in performance-critical operations:  AVX2 FMA\n",
      "To enable them in other operations, rebuild TensorFlow with the appropriate compiler flags.\n",
      "2021-04-28 12:14:55.559085: I tensorflow/compiler/mlir/mlir_graph_optimization_pass.cc:196] None of the MLIR optimization passes are enabled (registered 0 passes)\n",
      "[INFO] Using VGG as feature extractor and then training new model.\n",
      "train_classifier.py:128: UserWarning: This method uses more memory. If you want to save memory, set memory_efficient to True. It will instruct the program to run the feature extraction phase at training time (MUCH SLOWER.)\n",
      "  warn(\"This method uses more memory. If you want to save memory, set memory_efficient to True. It will instruct the program to run the feature extraction phase at training time (MUCH SLOWER.)\")\n",
      "/Users/leonardoalchieri/anaconda3/envs/tf_apple_2/lib/python3.8/site-packages/tensorflow/python/keras/engine/training.py:2325: UserWarning: `Model.state_updates` will be removed in a future version. This property should not be used in TensorFlow 2.0, as `updates` are applied automatically.\n",
      "  warnings.warn('`Model.state_updates` will be removed in a future version. '\n",
      "[INFO] Creating new model\n",
      "[INFO] Compiling model.\n",
      "[INFO] Model traning.\n",
      "Train on 8005 samples, validate on 3431 samples\n",
      "Epoch 1/20\n",
      "8005/8005 [==============================] - 4s 542us/sample - loss: 0.9549 - accuracy: 0.7324 - val_loss: 0.4769 - val_accuracy: 0.8001\n",
      "Epoch 2/20\n",
      "8005/8005 [==============================] - 4s 504us/sample - loss: 0.4394 - accuracy: 0.8332 - val_loss: 0.3739 - val_accuracy: 0.8549\n",
      "Epoch 3/20\n",
      "8005/8005 [==============================] - 4s 512us/sample - loss: 0.3628 - accuracy: 0.8628 - val_loss: 0.3366 - val_accuracy: 0.8700\n",
      "Epoch 4/20\n",
      "8005/8005 [==============================] - 4s 513us/sample - loss: 0.3127 - accuracy: 0.8813 - val_loss: 0.2984 - val_accuracy: 0.8866\n",
      "Epoch 5/20\n",
      "8005/8005 [==============================] - 4s 513us/sample - loss: 0.2700 - accuracy: 0.8993 - val_loss: 0.2806 - val_accuracy: 0.8965\n",
      "Epoch 6/20\n",
      "8005/8005 [==============================] - 4s 517us/sample - loss: 0.2498 - accuracy: 0.9037 - val_loss: 0.3008 - val_accuracy: 0.8884\n",
      "Epoch 7/20\n",
      "8005/8005 [==============================] - 4s 514us/sample - loss: 0.2134 - accuracy: 0.9157 - val_loss: 0.2527 - val_accuracy: 0.9088\n",
      "Epoch 8/20\n",
      "8005/8005 [==============================] - 4s 512us/sample - loss: 0.2023 - accuracy: 0.9279 - val_loss: 0.2556 - val_accuracy: 0.9108\n",
      "Epoch 9/20\n",
      "8005/8005 [==============================] - 4s 515us/sample - loss: 0.1776 - accuracy: 0.9320 - val_loss: 0.2501 - val_accuracy: 0.9155\n",
      "Epoch 10/20\n",
      "8005/8005 [==============================] - 4s 531us/sample - loss: 0.1514 - accuracy: 0.9434 - val_loss: 0.2444 - val_accuracy: 0.9152\n",
      "Epoch 11/20\n",
      "8005/8005 [==============================] - 4s 524us/sample - loss: 0.1458 - accuracy: 0.9432 - val_loss: 0.2561 - val_accuracy: 0.9155\n",
      "Epoch 12/20\n",
      "8005/8005 [==============================] - 4s 515us/sample - loss: 0.1311 - accuracy: 0.9510 - val_loss: 0.2319 - val_accuracy: 0.9196\n",
      "Epoch 13/20\n",
      "8005/8005 [==============================] - 4s 510us/sample - loss: 0.1226 - accuracy: 0.9545 - val_loss: 0.2317 - val_accuracy: 0.9245\n",
      "Epoch 14/20\n",
      "8005/8005 [==============================] - 4s 520us/sample - loss: 0.1209 - accuracy: 0.9560 - val_loss: 0.2388 - val_accuracy: 0.9172\n",
      "Epoch 15/20\n",
      "8005/8005 [==============================] - 5s 612us/sample - loss: 0.1055 - accuracy: 0.9633 - val_loss: 0.2592 - val_accuracy: 0.9158\n",
      "Epoch 16/20\n",
      "8005/8005 [==============================] - 4s 537us/sample - loss: 0.1134 - accuracy: 0.9578 - val_loss: 0.2608 - val_accuracy: 0.9204\n",
      "Epoch 17/20\n",
      "8005/8005 [==============================] - 4s 533us/sample - loss: 0.0989 - accuracy: 0.9633 - val_loss: 0.2709 - val_accuracy: 0.9184\n",
      "Epoch 18/20\n",
      "8005/8005 [==============================] - 4s 546us/sample - loss: 0.0959 - accuracy: 0.9645 - val_loss: 0.2579 - val_accuracy: 0.9166\n",
      "Epoch 19/20\n",
      "8005/8005 [==============================] - 4s 561us/sample - loss: 0.0905 - accuracy: 0.9674 - val_loss: 0.2587 - val_accuracy: 0.9181\n",
      "Epoch 20/20\n",
      "8005/8005 [==============================] - 4s 527us/sample - loss: 0.0968 - accuracy: 0.9651 - val_loss: 0.2690 - val_accuracy: 0.9184\n",
      "[INFO] Final test accuracy: 0.92\n",
      "[INFO] Training completed.\n",
      "[INFO] Saving model\n",
      "2021-04-28 12:18:06.456205: W tensorflow/python/util/util.cc:348] Sets are not currently considered sequences, but this may change in the future, so consider avoiding using them.\n",
      "WARNING:tensorflow:FOR KERAS USERS: The object that you are saving contains one or more Keras models or layers. If you are loading the SavedModel with `tf.keras.models.load_model`, continue reading (otherwise, you may ignore the following instructions). Please change your code to save with `tf.keras.models.save_model` or `model.save`, and confirm that the file \"keras.metadata\" exists in the export directory. In the future, Keras will only load the SavedModels that have this file. In other words, `tf.saved_model.save` will no longer write SavedModels that can be recovered as Keras models (this will apply in TF 2.5).\n",
      "\n",
      "FOR DEVS: If you are overwriting _tracking_metadata in your class, this property has been used to save metadata in the SavedModel. The metadta field will be deprecated soon, so please move the metadata to a different file.\n",
      "Figure(1000x1000)\n"
     ]
    }
   ],
   "source": [
    "# slicing on 12\n",
    "!python3 train_classifier.py"
   ]
  },
  {
   "cell_type": "code",
   "execution_count": 5,
   "metadata": {
    "ExecuteTime": {
     "end_time": "2021-04-28T10:28:28.328073Z",
     "start_time": "2021-04-28T10:23:50.848709Z"
    },
    "hidden": true
   },
   "outputs": [
    {
     "name": "stdout",
     "output_type": "stream",
     "text": [
      "[INFO] Loading vars\n",
      "[INFO] Loading data from hdf5 file.\n",
      "[INFO] RAM usage for data array: 10.54GB\n",
      "[INFO] Preparing train-test split.\n",
      "[INFO] Loading base VGG model.\n",
      "[INFO] One-dimensional channel mode activated\n",
      "2021-04-28 12:25:23.129246: I tensorflow/compiler/jit/xla_cpu_device.cc:41] Not creating XLA devices, tf_xla_enable_xla_devices not set\n",
      "2021-04-28 12:25:23.129519: I tensorflow/core/platform/cpu_feature_guard.cc:142] This TensorFlow binary is optimized with oneAPI Deep Neural Network Library (oneDNN) to use the following CPU instructions in performance-critical operations:  AVX2 FMA\n",
      "To enable them in other operations, rebuild TensorFlow with the appropriate compiler flags.\n",
      "2021-04-28 12:25:23.142083: I tensorflow/compiler/mlir/mlir_graph_optimization_pass.cc:196] None of the MLIR optimization passes are enabled (registered 0 passes)\n",
      "[INFO] Using VGG as feature extractor and then training new model.\n",
      "train_classifier.py:128: UserWarning: This method uses more memory. If you want to save memory, set memory_efficient to True. It will instruct the program to run the feature extraction phase at training time (MUCH SLOWER.)\n",
      "  warn(\"This method uses more memory. If you want to save memory, set memory_efficient to True. It will instruct the program to run the feature extraction phase at training time (MUCH SLOWER.)\")\n",
      "/Users/leonardoalchieri/anaconda3/envs/tf_apple_2/lib/python3.8/site-packages/tensorflow/python/keras/engine/training.py:2325: UserWarning: `Model.state_updates` will be removed in a future version. This property should not be used in TensorFlow 2.0, as `updates` are applied automatically.\n",
      "  warnings.warn('`Model.state_updates` will be removed in a future version. '\n",
      "[INFO] Creating new model\n",
      "[INFO] Compiling model.\n",
      "[INFO] Model traning.\n",
      "Train on 8005 samples, validate on 3431 samples\n",
      "Epoch 1/50\n",
      "8005/8005 [==============================] - 4s 551us/sample - loss: 1.0527 - accuracy: 0.7215 - val_loss: 0.5141 - val_accuracy: 0.7799\n",
      "Epoch 2/50\n",
      "8005/8005 [==============================] - 4s 500us/sample - loss: 0.4599 - accuracy: 0.8151 - val_loss: 0.4050 - val_accuracy: 0.8382\n",
      "Epoch 3/50\n",
      "8005/8005 [==============================] - 4s 503us/sample - loss: 0.3819 - accuracy: 0.8513 - val_loss: 0.3709 - val_accuracy: 0.8487\n",
      "Epoch 4/50\n",
      "8005/8005 [==============================] - 4s 508us/sample - loss: 0.3188 - accuracy: 0.8797 - val_loss: 0.3262 - val_accuracy: 0.8744\n",
      "Epoch 5/50\n",
      "8005/8005 [==============================] - 4s 525us/sample - loss: 0.2771 - accuracy: 0.8913 - val_loss: 0.3242 - val_accuracy: 0.8799\n",
      "Epoch 6/50\n",
      "8005/8005 [==============================] - 4s 510us/sample - loss: 0.2765 - accuracy: 0.8994 - val_loss: 0.2821 - val_accuracy: 0.8968\n",
      "Epoch 7/50\n",
      "8005/8005 [==============================] - 4s 512us/sample - loss: 0.2169 - accuracy: 0.9144 - val_loss: 0.2940 - val_accuracy: 0.8948\n",
      "Epoch 8/50\n",
      "8005/8005 [==============================] - 4s 512us/sample - loss: 0.2033 - accuracy: 0.9275 - val_loss: 0.2922 - val_accuracy: 0.8948\n",
      "Epoch 9/50\n",
      "8005/8005 [==============================] - 4s 513us/sample - loss: 0.1876 - accuracy: 0.9329 - val_loss: 0.2728 - val_accuracy: 0.8997\n",
      "Epoch 10/50\n",
      "8005/8005 [==============================] - 4s 510us/sample - loss: 0.1707 - accuracy: 0.9384 - val_loss: 0.2847 - val_accuracy: 0.9041\n",
      "Epoch 11/50\n",
      "8005/8005 [==============================] - 4s 511us/sample - loss: 0.1572 - accuracy: 0.9434 - val_loss: 0.2801 - val_accuracy: 0.9076\n",
      "Epoch 12/50\n",
      "8005/8005 [==============================] - 4s 514us/sample - loss: 0.1425 - accuracy: 0.9472 - val_loss: 0.2797 - val_accuracy: 0.9096\n",
      "Epoch 13/50\n",
      "8005/8005 [==============================] - 4s 506us/sample - loss: 0.1339 - accuracy: 0.9519 - val_loss: 0.2769 - val_accuracy: 0.9085\n",
      "Epoch 14/50\n",
      "8005/8005 [==============================] - 4s 507us/sample - loss: 0.1301 - accuracy: 0.9508 - val_loss: 0.2647 - val_accuracy: 0.9064\n",
      "Epoch 15/50\n",
      "8005/8005 [==============================] - 4s 522us/sample - loss: 0.1232 - accuracy: 0.9569 - val_loss: 0.2860 - val_accuracy: 0.9085\n",
      "Epoch 16/50\n",
      "8005/8005 [==============================] - 4s 508us/sample - loss: 0.1052 - accuracy: 0.9608 - val_loss: 0.2833 - val_accuracy: 0.9131\n",
      "Epoch 17/50\n",
      "8005/8005 [==============================] - 4s 509us/sample - loss: 0.0997 - accuracy: 0.9614 - val_loss: 0.2909 - val_accuracy: 0.9155\n",
      "Epoch 18/50\n",
      "8005/8005 [==============================] - 4s 522us/sample - loss: 0.0977 - accuracy: 0.9626 - val_loss: 0.2937 - val_accuracy: 0.9164\n",
      "Epoch 19/50\n",
      "8005/8005 [==============================] - 4s 507us/sample - loss: 0.0960 - accuracy: 0.9631 - val_loss: 0.2916 - val_accuracy: 0.9178\n",
      "Epoch 00019: early stopping\n",
      "[INFO] Final test accuracy: 0.92\n",
      "[INFO] Training completed.\n",
      "[INFO] Saving model\n",
      "2021-04-28 12:28:26.995447: W tensorflow/python/util/util.cc:348] Sets are not currently considered sequences, but this may change in the future, so consider avoiding using them.\n",
      "WARNING:tensorflow:FOR KERAS USERS: The object that you are saving contains one or more Keras models or layers. If you are loading the SavedModel with `tf.keras.models.load_model`, continue reading (otherwise, you may ignore the following instructions). Please change your code to save with `tf.keras.models.save_model` or `model.save`, and confirm that the file \"keras.metadata\" exists in the export directory. In the future, Keras will only load the SavedModels that have this file. In other words, `tf.saved_model.save` will no longer write SavedModels that can be recovered as Keras models (this will apply in TF 2.5).\n",
      "\n",
      "FOR DEVS: If you are overwriting _tracking_metadata in your class, this property has been used to save metadata in the SavedModel. The metadta field will be deprecated soon, so please move the metadata to a different file.\n",
      "Figure(1000x1000)\n"
     ]
    }
   ],
   "source": [
    "# slicing on 18\n",
    "!python3 train_classifier.py"
   ]
  },
  {
   "cell_type": "code",
   "execution_count": 6,
   "metadata": {
    "ExecuteTime": {
     "end_time": "2021-04-28T10:33:54.300088Z",
     "start_time": "2021-04-28T10:29:32.342681Z"
    },
    "hidden": true
   },
   "outputs": [
    {
     "name": "stdout",
     "output_type": "stream",
     "text": [
      "[INFO] Loading vars\n",
      "[INFO] Loading data from hdf5 file.\n",
      "[INFO] RAM usage for data array: 10.54GB\n",
      "[INFO] Preparing train-test split.\n",
      "[INFO] Loading base VGG model.\n",
      "[INFO] One-dimensional channel mode activated\n",
      "2021-04-28 12:30:52.569228: I tensorflow/compiler/jit/xla_cpu_device.cc:41] Not creating XLA devices, tf_xla_enable_xla_devices not set\n",
      "2021-04-28 12:30:52.569420: I tensorflow/core/platform/cpu_feature_guard.cc:142] This TensorFlow binary is optimized with oneAPI Deep Neural Network Library (oneDNN) to use the following CPU instructions in performance-critical operations:  AVX2 FMA\n",
      "To enable them in other operations, rebuild TensorFlow with the appropriate compiler flags.\n",
      "2021-04-28 12:30:52.579462: I tensorflow/compiler/mlir/mlir_graph_optimization_pass.cc:196] None of the MLIR optimization passes are enabled (registered 0 passes)\n",
      "[INFO] Using VGG as feature extractor and then training new model.\n",
      "train_classifier.py:128: UserWarning: This method uses more memory. If you want to save memory, set memory_efficient to True. It will instruct the program to run the feature extraction phase at training time (MUCH SLOWER.)\n",
      "  warn(\"This method uses more memory. If you want to save memory, set memory_efficient to True. It will instruct the program to run the feature extraction phase at training time (MUCH SLOWER.)\")\n",
      "/Users/leonardoalchieri/anaconda3/envs/tf_apple_2/lib/python3.8/site-packages/tensorflow/python/keras/engine/training.py:2325: UserWarning: `Model.state_updates` will be removed in a future version. This property should not be used in TensorFlow 2.0, as `updates` are applied automatically.\n",
      "  warnings.warn('`Model.state_updates` will be removed in a future version. '\n",
      "[INFO] Creating new model\n",
      "[INFO] Compiling model.\n",
      "[INFO] Model traning.\n",
      "Train on 8005 samples, validate on 3431 samples\n",
      "Epoch 1/50\n",
      "8005/8005 [==============================] - 4s 562us/sample - loss: 0.8445 - accuracy: 0.7489 - val_loss: 0.4544 - val_accuracy: 0.8228\n",
      "Epoch 2/50\n",
      "8005/8005 [==============================] - 4s 509us/sample - loss: 0.4341 - accuracy: 0.8246 - val_loss: 0.3771 - val_accuracy: 0.8490\n",
      "Epoch 3/50\n",
      "8005/8005 [==============================] - 4s 507us/sample - loss: 0.3728 - accuracy: 0.8426 - val_loss: 0.3337 - val_accuracy: 0.8680\n",
      "Epoch 4/50\n",
      "8005/8005 [==============================] - 4s 511us/sample - loss: 0.3297 - accuracy: 0.8640 - val_loss: 0.3074 - val_accuracy: 0.8782\n",
      "Epoch 5/50\n",
      "8005/8005 [==============================] - 4s 511us/sample - loss: 0.2879 - accuracy: 0.8816 - val_loss: 0.2849 - val_accuracy: 0.8954\n",
      "Epoch 6/50\n",
      "8005/8005 [==============================] - 4s 539us/sample - loss: 0.2693 - accuracy: 0.8927 - val_loss: 0.2783 - val_accuracy: 0.8930\n",
      "Epoch 7/50\n",
      "8005/8005 [==============================] - 4s 520us/sample - loss: 0.2514 - accuracy: 0.9011 - val_loss: 0.2657 - val_accuracy: 0.9027\n",
      "Epoch 8/50\n",
      "8005/8005 [==============================] - 4s 517us/sample - loss: 0.2317 - accuracy: 0.9111 - val_loss: 0.2506 - val_accuracy: 0.9096\n",
      "Epoch 9/50\n",
      "8005/8005 [==============================] - 4s 511us/sample - loss: 0.2169 - accuracy: 0.9152 - val_loss: 0.2494 - val_accuracy: 0.9114\n",
      "Epoch 10/50\n",
      "8005/8005 [==============================] - 4s 511us/sample - loss: 0.1826 - accuracy: 0.9270 - val_loss: 0.2525 - val_accuracy: 0.9111\n",
      "Epoch 11/50\n",
      "8005/8005 [==============================] - 4s 517us/sample - loss: 0.1811 - accuracy: 0.9264 - val_loss: 0.2498 - val_accuracy: 0.9129\n",
      "Epoch 12/50\n",
      "8005/8005 [==============================] - 4s 512us/sample - loss: 0.1629 - accuracy: 0.9362 - val_loss: 0.2589 - val_accuracy: 0.9190\n",
      "Epoch 13/50\n",
      "8005/8005 [==============================] - 4s 513us/sample - loss: 0.1621 - accuracy: 0.9367 - val_loss: 0.2473 - val_accuracy: 0.9164\n",
      "Epoch 14/50\n",
      "8005/8005 [==============================] - 4s 516us/sample - loss: 0.1370 - accuracy: 0.9447 - val_loss: 0.2665 - val_accuracy: 0.9225\n",
      "Epoch 15/50\n",
      "8005/8005 [==============================] - 4s 506us/sample - loss: 0.1394 - accuracy: 0.9454 - val_loss: 0.2552 - val_accuracy: 0.9216\n",
      "Epoch 16/50\n",
      "8005/8005 [==============================] - 4s 512us/sample - loss: 0.1335 - accuracy: 0.9480 - val_loss: 0.2785 - val_accuracy: 0.9190\n",
      "Epoch 17/50\n",
      "8005/8005 [==============================] - 4s 511us/sample - loss: 0.1396 - accuracy: 0.9483 - val_loss: 0.2607 - val_accuracy: 0.9190\n",
      "Epoch 18/50\n",
      "8005/8005 [==============================] - 4s 520us/sample - loss: 0.1226 - accuracy: 0.9530 - val_loss: 0.2797 - val_accuracy: 0.9216\n",
      "Epoch 00018: early stopping\n",
      "[INFO] Final test accuracy: 0.92\n",
      "[INFO] Training completed.\n",
      "[INFO] Saving model\n",
      "2021-04-28 12:33:53.000382: W tensorflow/python/util/util.cc:348] Sets are not currently considered sequences, but this may change in the future, so consider avoiding using them.\n",
      "WARNING:tensorflow:FOR KERAS USERS: The object that you are saving contains one or more Keras models or layers. If you are loading the SavedModel with `tf.keras.models.load_model`, continue reading (otherwise, you may ignore the following instructions). Please change your code to save with `tf.keras.models.save_model` or `model.save`, and confirm that the file \"keras.metadata\" exists in the export directory. In the future, Keras will only load the SavedModels that have this file. In other words, `tf.saved_model.save` will no longer write SavedModels that can be recovered as Keras models (this will apply in TF 2.5).\n",
      "\n",
      "FOR DEVS: If you are overwriting _tracking_metadata in your class, this property has been used to save metadata in the SavedModel. The metadta field will be deprecated soon, so please move the metadata to a different file.\n",
      "Figure(1000x1000)\n"
     ]
    }
   ],
   "source": [
    "# slicing on 10\n",
    "!python3 train_classifier.py"
   ]
  },
  {
   "cell_type": "code",
   "execution_count": 7,
   "metadata": {
    "ExecuteTime": {
     "end_time": "2021-04-28T10:40:44.974514Z",
     "start_time": "2021-04-28T10:36:08.027458Z"
    },
    "hidden": true
   },
   "outputs": [
    {
     "name": "stdout",
     "output_type": "stream",
     "text": [
      "[INFO] Loading vars\n",
      "[INFO] Loading data from hdf5 file.\n",
      "[INFO] RAM usage for data array: 10.54GB\n",
      "[INFO] Preparing train-test split.\n",
      "[INFO] Loading base VGG model.\n",
      "[INFO] One-dimensional channel mode activated\n",
      "2021-04-28 12:37:35.795660: I tensorflow/compiler/jit/xla_cpu_device.cc:41] Not creating XLA devices, tf_xla_enable_xla_devices not set\n",
      "2021-04-28 12:37:35.795867: I tensorflow/core/platform/cpu_feature_guard.cc:142] This TensorFlow binary is optimized with oneAPI Deep Neural Network Library (oneDNN) to use the following CPU instructions in performance-critical operations:  AVX2 FMA\n",
      "To enable them in other operations, rebuild TensorFlow with the appropriate compiler flags.\n",
      "2021-04-28 12:37:35.807561: I tensorflow/compiler/mlir/mlir_graph_optimization_pass.cc:196] None of the MLIR optimization passes are enabled (registered 0 passes)\n",
      "[INFO] Using VGG as feature extractor and then training new model.\n",
      "train_classifier.py:128: UserWarning: This method uses more memory. If you want to save memory, set memory_efficient to True. It will instruct the program to run the feature extraction phase at training time (MUCH SLOWER.)\n",
      "  warn(\"This method uses more memory. If you want to save memory, set memory_efficient to True. It will instruct the program to run the feature extraction phase at training time (MUCH SLOWER.)\")\n",
      "/Users/leonardoalchieri/anaconda3/envs/tf_apple_2/lib/python3.8/site-packages/tensorflow/python/keras/engine/training.py:2325: UserWarning: `Model.state_updates` will be removed in a future version. This property should not be used in TensorFlow 2.0, as `updates` are applied automatically.\n",
      "  warnings.warn('`Model.state_updates` will be removed in a future version. '\n",
      "[INFO] Creating new model\n",
      "[INFO] Compiling model.\n",
      "[INFO] Model traning.\n",
      "Train on 8005 samples, validate on 3431 samples\n",
      "Epoch 1/50\n",
      "8005/8005 [==============================] - 4s 549us/sample - loss: 1.0627 - accuracy: 0.7101 - val_loss: 0.4945 - val_accuracy: 0.7785\n",
      "Epoch 2/50\n",
      "8005/8005 [==============================] - 4s 503us/sample - loss: 0.4579 - accuracy: 0.7953 - val_loss: 0.3885 - val_accuracy: 0.8464\n",
      "Epoch 3/50\n",
      "8005/8005 [==============================] - 4s 498us/sample - loss: 0.3669 - accuracy: 0.8453 - val_loss: 0.3405 - val_accuracy: 0.8662\n",
      "Epoch 4/50\n",
      "8005/8005 [==============================] - 4s 505us/sample - loss: 0.3098 - accuracy: 0.8732 - val_loss: 0.3220 - val_accuracy: 0.8820\n",
      "Epoch 5/50\n",
      "8005/8005 [==============================] - 4s 498us/sample - loss: 0.2839 - accuracy: 0.8806 - val_loss: 0.3042 - val_accuracy: 0.8910\n",
      "Epoch 6/50\n",
      "8005/8005 [==============================] - 4s 512us/sample - loss: 0.2731 - accuracy: 0.8876 - val_loss: 0.2924 - val_accuracy: 0.8951\n",
      "Epoch 7/50\n",
      "8005/8005 [==============================] - 4s 513us/sample - loss: 0.2344 - accuracy: 0.9089 - val_loss: 0.2902 - val_accuracy: 0.9038\n",
      "Epoch 8/50\n",
      "8005/8005 [==============================] - 4s 514us/sample - loss: 0.2109 - accuracy: 0.9152 - val_loss: 0.2932 - val_accuracy: 0.9050\n",
      "Epoch 9/50\n",
      "8005/8005 [==============================] - 4s 509us/sample - loss: 0.2118 - accuracy: 0.9107 - val_loss: 0.2621 - val_accuracy: 0.9056\n",
      "Epoch 10/50\n",
      "8005/8005 [==============================] - 4s 511us/sample - loss: 0.1888 - accuracy: 0.9248 - val_loss: 0.2675 - val_accuracy: 0.9094\n",
      "Epoch 11/50\n",
      "8005/8005 [==============================] - 4s 511us/sample - loss: 0.1645 - accuracy: 0.9317 - val_loss: 0.2663 - val_accuracy: 0.9120\n",
      "Epoch 12/50\n",
      "8005/8005 [==============================] - 4s 516us/sample - loss: 0.1543 - accuracy: 0.9383 - val_loss: 0.2626 - val_accuracy: 0.9158\n",
      "Epoch 13/50\n",
      "8005/8005 [==============================] - 4s 510us/sample - loss: 0.1337 - accuracy: 0.9469 - val_loss: 0.2569 - val_accuracy: 0.9099\n",
      "Epoch 14/50\n",
      "8005/8005 [==============================] - 4s 521us/sample - loss: 0.1302 - accuracy: 0.9495 - val_loss: 0.2640 - val_accuracy: 0.9158\n",
      "Epoch 15/50\n",
      "8005/8005 [==============================] - 4s 513us/sample - loss: 0.1329 - accuracy: 0.9475 - val_loss: 0.2482 - val_accuracy: 0.9178\n",
      "Epoch 16/50\n",
      "8005/8005 [==============================] - 4s 516us/sample - loss: 0.1250 - accuracy: 0.9532 - val_loss: 0.2606 - val_accuracy: 0.9152\n",
      "Epoch 17/50\n",
      "8005/8005 [==============================] - 4s 508us/sample - loss: 0.1130 - accuracy: 0.9583 - val_loss: 0.2697 - val_accuracy: 0.9222\n",
      "Epoch 18/50\n",
      "8005/8005 [==============================] - 4s 512us/sample - loss: 0.1110 - accuracy: 0.9568 - val_loss: 0.2647 - val_accuracy: 0.9152\n",
      "Epoch 19/50\n",
      "8005/8005 [==============================] - 4s 507us/sample - loss: 0.1060 - accuracy: 0.9593 - val_loss: 0.2710 - val_accuracy: 0.9228\n",
      "Epoch 20/50\n",
      "8005/8005 [==============================] - 4s 513us/sample - loss: 0.0906 - accuracy: 0.9645 - val_loss: 0.2525 - val_accuracy: 0.9231\n",
      "Epoch 00020: early stopping\n",
      "[INFO] Final test accuracy: 0.92\n",
      "[INFO] Training completed.\n",
      "[INFO] Saving model\n",
      "2021-04-28 12:40:43.646515: W tensorflow/python/util/util.cc:348] Sets are not currently considered sequences, but this may change in the future, so consider avoiding using them.\n",
      "WARNING:tensorflow:FOR KERAS USERS: The object that you are saving contains one or more Keras models or layers. If you are loading the SavedModel with `tf.keras.models.load_model`, continue reading (otherwise, you may ignore the following instructions). Please change your code to save with `tf.keras.models.save_model` or `model.save`, and confirm that the file \"keras.metadata\" exists in the export directory. In the future, Keras will only load the SavedModels that have this file. In other words, `tf.saved_model.save` will no longer write SavedModels that can be recovered as Keras models (this will apply in TF 2.5).\n",
      "\n",
      "FOR DEVS: If you are overwriting _tracking_metadata in your class, this property has been used to save metadata in the SavedModel. The metadta field will be deprecated soon, so please move the metadata to a different file.\n",
      "Figure(1000x1000)\n"
     ]
    }
   ],
   "source": [
    "# slicing on 5\n",
    "!python3 train_classifier.py"
   ]
  },
  {
   "cell_type": "code",
   "execution_count": 8,
   "metadata": {
    "ExecuteTime": {
     "end_time": "2021-04-28T12:45:44.047586Z",
     "start_time": "2021-04-28T12:40:51.453381Z"
    },
    "hidden": true
   },
   "outputs": [
    {
     "name": "stdout",
     "output_type": "stream",
     "text": [
      "[INFO] Loading vars\n",
      "[INFO] Loading data from hdf5 file.\n",
      "[INFO] RAM usage for data array: 10.54GB\n",
      "[INFO] Preparing train-test split.\n",
      "[INFO] Loading base VGG model.\n",
      "[INFO] One-dimensional channel mode activated\n",
      "2021-04-28 14:42:31.396473: I tensorflow/compiler/jit/xla_cpu_device.cc:41] Not creating XLA devices, tf_xla_enable_xla_devices not set\n",
      "2021-04-28 14:42:31.397183: I tensorflow/core/platform/cpu_feature_guard.cc:142] This TensorFlow binary is optimized with oneAPI Deep Neural Network Library (oneDNN) to use the following CPU instructions in performance-critical operations:  AVX2 FMA\n",
      "To enable them in other operations, rebuild TensorFlow with the appropriate compiler flags.\n",
      "2021-04-28 14:42:31.414666: I tensorflow/compiler/mlir/mlir_graph_optimization_pass.cc:196] None of the MLIR optimization passes are enabled (registered 0 passes)\n",
      "[INFO] Using VGG as feature extractor and then training new model.\n",
      "train_classifier.py:128: UserWarning: This method uses more memory. If you want to save memory, set memory_efficient to True. It will instruct the program to run the feature extraction phase at training time (MUCH SLOWER.)\n",
      "  warn(\"This method uses more memory. If you want to save memory, set memory_efficient to True. It will instruct the program to run the feature extraction phase at training time (MUCH SLOWER.)\")\n",
      "/Users/leonardoalchieri/anaconda3/envs/tf_apple_2/lib/python3.8/site-packages/tensorflow/python/keras/engine/training.py:2325: UserWarning: `Model.state_updates` will be removed in a future version. This property should not be used in TensorFlow 2.0, as `updates` are applied automatically.\n",
      "  warnings.warn('`Model.state_updates` will be removed in a future version. '\n",
      "[INFO] Creating new model\n",
      "[INFO] Compiling model.\n",
      "[INFO] Model traning.\n",
      "Train on 8005 samples, validate on 3431 samples\n",
      "Epoch 1/50\n",
      "8005/8005 [==============================] - 5s 591us/sample - loss: 0.9202 - accuracy: 0.7434 - val_loss: 0.4470 - val_accuracy: 0.8120\n",
      "Epoch 2/50\n",
      "8005/8005 [==============================] - 4s 532us/sample - loss: 0.4305 - accuracy: 0.8234 - val_loss: 0.3580 - val_accuracy: 0.8604\n",
      "Epoch 3/50\n",
      "8005/8005 [==============================] - 4s 528us/sample - loss: 0.3477 - accuracy: 0.8632 - val_loss: 0.3195 - val_accuracy: 0.8808\n",
      "Epoch 4/50\n",
      "8005/8005 [==============================] - 4s 538us/sample - loss: 0.3028 - accuracy: 0.8798 - val_loss: 0.2772 - val_accuracy: 0.9009\n",
      "Epoch 5/50\n",
      "8005/8005 [==============================] - 4s 532us/sample - loss: 0.2644 - accuracy: 0.8949 - val_loss: 0.2703 - val_accuracy: 0.8913\n",
      "Epoch 6/50\n",
      "8005/8005 [==============================] - 4s 537us/sample - loss: 0.2353 - accuracy: 0.9081 - val_loss: 0.2581 - val_accuracy: 0.9076\n",
      "Epoch 7/50\n",
      "8005/8005 [==============================] - 4s 544us/sample - loss: 0.2232 - accuracy: 0.9077 - val_loss: 0.2556 - val_accuracy: 0.9088\n",
      "Epoch 8/50\n",
      "8005/8005 [==============================] - 4s 542us/sample - loss: 0.1998 - accuracy: 0.9194 - val_loss: 0.2506 - val_accuracy: 0.9067\n",
      "Epoch 9/50\n",
      "8005/8005 [==============================] - 4s 540us/sample - loss: 0.1839 - accuracy: 0.9315 - val_loss: 0.2434 - val_accuracy: 0.9187\n",
      "Epoch 10/50\n",
      "8005/8005 [==============================] - 4s 511us/sample - loss: 0.1694 - accuracy: 0.9342 - val_loss: 0.2462 - val_accuracy: 0.9175\n",
      "Epoch 11/50\n",
      "8005/8005 [==============================] - 4s 518us/sample - loss: 0.1597 - accuracy: 0.9374 - val_loss: 0.2400 - val_accuracy: 0.9172\n",
      "Epoch 12/50\n",
      "8005/8005 [==============================] - 4s 519us/sample - loss: 0.1390 - accuracy: 0.9479 - val_loss: 0.2417 - val_accuracy: 0.9196\n",
      "Epoch 13/50\n",
      "8005/8005 [==============================] - 4s 510us/sample - loss: 0.1324 - accuracy: 0.9492 - val_loss: 0.2311 - val_accuracy: 0.9213\n",
      "Epoch 14/50\n",
      "8005/8005 [==============================] - 4s 518us/sample - loss: 0.1319 - accuracy: 0.9515 - val_loss: 0.2288 - val_accuracy: 0.9257\n",
      "Epoch 15/50\n",
      "8005/8005 [==============================] - 4s 535us/sample - loss: 0.1154 - accuracy: 0.9583 - val_loss: 0.2130 - val_accuracy: 0.9263\n",
      "Epoch 16/50\n",
      "8005/8005 [==============================] - 4s 534us/sample - loss: 0.1105 - accuracy: 0.9564 - val_loss: 0.2219 - val_accuracy: 0.9295\n",
      "Epoch 17/50\n",
      "8005/8005 [==============================] - 4s 536us/sample - loss: 0.1026 - accuracy: 0.9620 - val_loss: 0.2361 - val_accuracy: 0.9306\n",
      "Epoch 18/50\n",
      "8005/8005 [==============================] - 4s 529us/sample - loss: 0.0975 - accuracy: 0.9620 - val_loss: 0.2163 - val_accuracy: 0.9333\n",
      "Epoch 19/50\n",
      "8005/8005 [==============================] - 4s 523us/sample - loss: 0.0862 - accuracy: 0.9686 - val_loss: 0.2166 - val_accuracy: 0.9286\n",
      "Epoch 20/50\n",
      "8005/8005 [==============================] - 4s 519us/sample - loss: 0.0919 - accuracy: 0.9644 - val_loss: 0.2171 - val_accuracy: 0.9303\n",
      "Epoch 00020: early stopping\n",
      "[INFO] Final test accuracy: 0.93\n",
      "[INFO] Training completed.\n",
      "[INFO] Saving model\n",
      "2021-04-28 14:45:42.510602: W tensorflow/python/util/util.cc:348] Sets are not currently considered sequences, but this may change in the future, so consider avoiding using them.\n",
      "WARNING:tensorflow:FOR KERAS USERS: The object that you are saving contains one or more Keras models or layers. If you are loading the SavedModel with `tf.keras.models.load_model`, continue reading (otherwise, you may ignore the following instructions). Please change your code to save with `tf.keras.models.save_model` or `model.save`, and confirm that the file \"keras.metadata\" exists in the export directory. In the future, Keras will only load the SavedModels that have this file. In other words, `tf.saved_model.save` will no longer write SavedModels that can be recovered as Keras models (this will apply in TF 2.5).\n",
      "\n",
      "FOR DEVS: If you are overwriting _tracking_metadata in your class, this property has been used to save metadata in the SavedModel. The metadta field will be deprecated soon, so please move the metadata to a different file.\n",
      "Figure(1000x1000)\n"
     ]
    }
   ],
   "source": [
    "# slicing on 2\n",
    "!python3 train_classifier.py"
   ]
  },
  {
   "cell_type": "markdown",
   "metadata": {
    "hidden": true
   },
   "source": [
    "So, apparently a very high slicing is the thing that works best."
   ]
  },
  {
   "cell_type": "code",
   "execution_count": 9,
   "metadata": {
    "ExecuteTime": {
     "end_time": "2021-04-28T12:51:14.189026Z",
     "start_time": "2021-04-28T12:46:38.828402Z"
    },
    "hidden": true
   },
   "outputs": [
    {
     "name": "stdout",
     "output_type": "stream",
     "text": [
      "[INFO] Loading vars\n",
      "[INFO] Loading data from hdf5 file.\n",
      "[INFO] RAM usage for data array: 10.54GB\n",
      "[INFO] Preparing train-test split.\n",
      "[INFO] Loading base VGG model.\n",
      "[INFO] One-dimensional channel mode activated\n",
      "2021-04-28 14:48:10.467511: I tensorflow/compiler/jit/xla_cpu_device.cc:41] Not creating XLA devices, tf_xla_enable_xla_devices not set\n",
      "2021-04-28 14:48:10.467698: I tensorflow/core/platform/cpu_feature_guard.cc:142] This TensorFlow binary is optimized with oneAPI Deep Neural Network Library (oneDNN) to use the following CPU instructions in performance-critical operations:  AVX2 FMA\n",
      "To enable them in other operations, rebuild TensorFlow with the appropriate compiler flags.\n",
      "2021-04-28 14:48:10.478491: I tensorflow/compiler/mlir/mlir_graph_optimization_pass.cc:196] None of the MLIR optimization passes are enabled (registered 0 passes)\n",
      "[INFO] Using VGG as feature extractor and then training new model.\n",
      "train_classifier.py:128: UserWarning: This method uses more memory. If you want to save memory, set memory_efficient to True. It will instruct the program to run the feature extraction phase at training time (MUCH SLOWER.)\n",
      "  warn(\"This method uses more memory. If you want to save memory, set memory_efficient to True. It will instruct the program to run the feature extraction phase at training time (MUCH SLOWER.)\")\n",
      "/Users/leonardoalchieri/anaconda3/envs/tf_apple_2/lib/python3.8/site-packages/tensorflow/python/keras/engine/training.py:2325: UserWarning: `Model.state_updates` will be removed in a future version. This property should not be used in TensorFlow 2.0, as `updates` are applied automatically.\n",
      "  warnings.warn('`Model.state_updates` will be removed in a future version. '\n",
      "[INFO] Creating new model\n",
      "[INFO] Compiling model.\n",
      "[INFO] Model traning.\n",
      "Train on 8005 samples, validate on 3431 samples\n",
      "Epoch 1/50\n",
      "8005/8005 [==============================] - 4s 562us/sample - loss: 0.9707 - accuracy: 0.7242 - val_loss: 0.4859 - val_accuracy: 0.8009\n",
      "Epoch 2/50\n",
      "8005/8005 [==============================] - 4s 521us/sample - loss: 0.4538 - accuracy: 0.8092 - val_loss: 0.3958 - val_accuracy: 0.8452\n",
      "Epoch 3/50\n",
      "8005/8005 [==============================] - 4s 513us/sample - loss: 0.3945 - accuracy: 0.8375 - val_loss: 0.3670 - val_accuracy: 0.8461\n",
      "Epoch 4/50\n",
      "8005/8005 [==============================] - 4s 510us/sample - loss: 0.3471 - accuracy: 0.8635 - val_loss: 0.3490 - val_accuracy: 0.8735\n",
      "Epoch 5/50\n",
      "8005/8005 [==============================] - 4s 544us/sample - loss: 0.3069 - accuracy: 0.8797 - val_loss: 0.2958 - val_accuracy: 0.8881\n",
      "Epoch 6/50\n",
      "8005/8005 [==============================] - 4s 538us/sample - loss: 0.2686 - accuracy: 0.8959 - val_loss: 0.2880 - val_accuracy: 0.9006\n",
      "Epoch 7/50\n",
      "8005/8005 [==============================] - 4s 516us/sample - loss: 0.2389 - accuracy: 0.9068 - val_loss: 0.2815 - val_accuracy: 0.8951\n",
      "Epoch 8/50\n",
      "8005/8005 [==============================] - 4s 525us/sample - loss: 0.2182 - accuracy: 0.9156 - val_loss: 0.2843 - val_accuracy: 0.9061\n",
      "Epoch 9/50\n",
      "8005/8005 [==============================] - 4s 528us/sample - loss: 0.1945 - accuracy: 0.9282 - val_loss: 0.2659 - val_accuracy: 0.9073\n",
      "Epoch 10/50\n",
      "8005/8005 [==============================] - 4s 521us/sample - loss: 0.1867 - accuracy: 0.9305 - val_loss: 0.2606 - val_accuracy: 0.9076\n",
      "Epoch 11/50\n",
      "8005/8005 [==============================] - 4s 533us/sample - loss: 0.1686 - accuracy: 0.9338 - val_loss: 0.2859 - val_accuracy: 0.9059\n",
      "Epoch 12/50\n",
      "8005/8005 [==============================] - 4s 517us/sample - loss: 0.1557 - accuracy: 0.9408 - val_loss: 0.2560 - val_accuracy: 0.9149\n",
      "Epoch 13/50\n",
      "8005/8005 [==============================] - 4s 520us/sample - loss: 0.1467 - accuracy: 0.9470 - val_loss: 0.2545 - val_accuracy: 0.9161\n",
      "Epoch 14/50\n",
      "8005/8005 [==============================] - 4s 523us/sample - loss: 0.1373 - accuracy: 0.9492 - val_loss: 0.2606 - val_accuracy: 0.9129\n",
      "Epoch 15/50\n",
      "8005/8005 [==============================] - 4s 523us/sample - loss: 0.1232 - accuracy: 0.9524 - val_loss: 0.2604 - val_accuracy: 0.9131\n",
      "Epoch 16/50\n",
      "8005/8005 [==============================] - 4s 522us/sample - loss: 0.1253 - accuracy: 0.9538 - val_loss: 0.2695 - val_accuracy: 0.9164\n",
      "Epoch 17/50\n",
      "8005/8005 [==============================] - 4s 520us/sample - loss: 0.1268 - accuracy: 0.9517 - val_loss: 0.2781 - val_accuracy: 0.9021\n",
      "Epoch 18/50\n",
      "8005/8005 [==============================] - 4s 521us/sample - loss: 0.1168 - accuracy: 0.9552 - val_loss: 0.2846 - val_accuracy: 0.9190\n",
      "Epoch 00018: early stopping\n",
      "[INFO] Final test accuracy: 0.92\n",
      "[INFO] Training completed.\n",
      "[INFO] Saving model\n",
      "2021-04-28 14:51:12.774643: W tensorflow/python/util/util.cc:348] Sets are not currently considered sequences, but this may change in the future, so consider avoiding using them.\n",
      "WARNING:tensorflow:FOR KERAS USERS: The object that you are saving contains one or more Keras models or layers. If you are loading the SavedModel with `tf.keras.models.load_model`, continue reading (otherwise, you may ignore the following instructions). Please change your code to save with `tf.keras.models.save_model` or `model.save`, and confirm that the file \"keras.metadata\" exists in the export directory. In the future, Keras will only load the SavedModels that have this file. In other words, `tf.saved_model.save` will no longer write SavedModels that can be recovered as Keras models (this will apply in TF 2.5).\n",
      "\n",
      "FOR DEVS: If you are overwriting _tracking_metadata in your class, this property has been used to save metadata in the SavedModel. The metadta field will be deprecated soon, so please move the metadata to a different file.\n",
      "Figure(1000x1000)\n"
     ]
    }
   ],
   "source": [
    "# slicing on 0\n",
    "!python3 train_classifier.py"
   ]
  },
  {
   "cell_type": "markdown",
   "metadata": {
    "hidden": true
   },
   "source": [
    "Adding too many layers is the lower accuracy that I have obtained."
   ]
  },
  {
   "cell_type": "code",
   "execution_count": 10,
   "metadata": {
    "ExecuteTime": {
     "end_time": "2021-04-28T12:57:26.301828Z",
     "start_time": "2021-04-28T12:52:54.351419Z"
    },
    "hidden": true
   },
   "outputs": [
    {
     "name": "stdout",
     "output_type": "stream",
     "text": [
      "[INFO] Loading vars\n",
      "[INFO] Loading data from hdf5 file.\n",
      "[INFO] RAM usage for data array: 10.54GB\n",
      "[INFO] Preparing train-test split.\n",
      "[INFO] Loading base VGG model.\n",
      "[INFO] One-dimensional channel mode activated\n",
      "2021-04-28 14:54:27.027826: I tensorflow/compiler/jit/xla_cpu_device.cc:41] Not creating XLA devices, tf_xla_enable_xla_devices not set\n",
      "2021-04-28 14:54:27.028099: I tensorflow/core/platform/cpu_feature_guard.cc:142] This TensorFlow binary is optimized with oneAPI Deep Neural Network Library (oneDNN) to use the following CPU instructions in performance-critical operations:  AVX2 FMA\n",
      "To enable them in other operations, rebuild TensorFlow with the appropriate compiler flags.\n",
      "2021-04-28 14:54:27.043763: I tensorflow/compiler/mlir/mlir_graph_optimization_pass.cc:196] None of the MLIR optimization passes are enabled (registered 0 passes)\n",
      "[INFO] Using VGG as feature extractor and then training new model.\n",
      "train_classifier.py:128: UserWarning: This method uses more memory. If you want to save memory, set memory_efficient to True. It will instruct the program to run the feature extraction phase at training time (MUCH SLOWER.)\n",
      "  warn(\"This method uses more memory. If you want to save memory, set memory_efficient to True. It will instruct the program to run the feature extraction phase at training time (MUCH SLOWER.)\")\n",
      "/Users/leonardoalchieri/anaconda3/envs/tf_apple_2/lib/python3.8/site-packages/tensorflow/python/keras/engine/training.py:2325: UserWarning: `Model.state_updates` will be removed in a future version. This property should not be used in TensorFlow 2.0, as `updates` are applied automatically.\n",
      "  warnings.warn('`Model.state_updates` will be removed in a future version. '\n",
      "[INFO] Creating new model\n",
      "[INFO] Compiling model.\n",
      "[INFO] Model traning.\n",
      "Train on 8005 samples, validate on 3431 samples\n",
      "Epoch 1/50\n",
      "8005/8005 [==============================] - 5s 648us/sample - loss: 0.9862 - accuracy: 0.7290 - val_loss: 0.4172 - val_accuracy: 0.8205\n",
      "Epoch 2/50\n",
      "8005/8005 [==============================] - 4s 543us/sample - loss: 0.4154 - accuracy: 0.8255 - val_loss: 0.3407 - val_accuracy: 0.8659\n",
      "Epoch 3/50\n",
      "8005/8005 [==============================] - 5s 592us/sample - loss: 0.3481 - accuracy: 0.8495 - val_loss: 0.2983 - val_accuracy: 0.8823\n",
      "Epoch 4/50\n",
      "8005/8005 [==============================] - 4s 561us/sample - loss: 0.2984 - accuracy: 0.8837 - val_loss: 0.3002 - val_accuracy: 0.8881\n",
      "Epoch 5/50\n",
      "8005/8005 [==============================] - 4s 549us/sample - loss: 0.2692 - accuracy: 0.8937 - val_loss: 0.2933 - val_accuracy: 0.8898\n",
      "Epoch 6/50\n",
      "8005/8005 [==============================] - 4s 549us/sample - loss: 0.2355 - accuracy: 0.9039 - val_loss: 0.2875 - val_accuracy: 0.9070\n",
      "Epoch 7/50\n",
      "8005/8005 [==============================] - 5s 582us/sample - loss: 0.2132 - accuracy: 0.9162 - val_loss: 0.2770 - val_accuracy: 0.9027\n",
      "Epoch 8/50\n",
      "8005/8005 [==============================] - 4s 558us/sample - loss: 0.1924 - accuracy: 0.9248 - val_loss: 0.2595 - val_accuracy: 0.9155\n",
      "Epoch 9/50\n",
      "8005/8005 [==============================] - 4s 526us/sample - loss: 0.1687 - accuracy: 0.9345 - val_loss: 0.2581 - val_accuracy: 0.9082\n",
      "Epoch 10/50\n",
      "8005/8005 [==============================] - 5s 612us/sample - loss: 0.1543 - accuracy: 0.9392 - val_loss: 0.2627 - val_accuracy: 0.9073\n",
      "Epoch 11/50\n",
      "8005/8005 [==============================] - 4s 561us/sample - loss: 0.1419 - accuracy: 0.9464 - val_loss: 0.2548 - val_accuracy: 0.9164\n",
      "Epoch 12/50\n",
      "8005/8005 [==============================] - 4s 542us/sample - loss: 0.1268 - accuracy: 0.9538 - val_loss: 0.2727 - val_accuracy: 0.9204\n",
      "Epoch 13/50\n",
      "8005/8005 [==============================] - 4s 523us/sample - loss: 0.1210 - accuracy: 0.9510 - val_loss: 0.2621 - val_accuracy: 0.9190\n",
      "Epoch 14/50\n",
      "8005/8005 [==============================] - 4s 521us/sample - loss: 0.1081 - accuracy: 0.9587 - val_loss: 0.2761 - val_accuracy: 0.9193\n",
      "Epoch 15/50\n",
      "8005/8005 [==============================] - 4s 520us/sample - loss: 0.1075 - accuracy: 0.9587 - val_loss: 0.2717 - val_accuracy: 0.9228\n",
      "Epoch 16/50\n",
      "8005/8005 [==============================] - 4s 537us/sample - loss: 0.0961 - accuracy: 0.9636 - val_loss: 0.2614 - val_accuracy: 0.9257\n",
      "Epoch 00016: early stopping\n",
      "[INFO] Final test accuracy: 0.93\n",
      "[INFO] Training completed.\n",
      "[INFO] Saving model\n",
      "2021-04-28 14:57:24.875950: W tensorflow/python/util/util.cc:348] Sets are not currently considered sequences, but this may change in the future, so consider avoiding using them.\n",
      "WARNING:tensorflow:FOR KERAS USERS: The object that you are saving contains one or more Keras models or layers. If you are loading the SavedModel with `tf.keras.models.load_model`, continue reading (otherwise, you may ignore the following instructions). Please change your code to save with `tf.keras.models.save_model` or `model.save`, and confirm that the file \"keras.metadata\" exists in the export directory. In the future, Keras will only load the SavedModels that have this file. In other words, `tf.saved_model.save` will no longer write SavedModels that can be recovered as Keras models (this will apply in TF 2.5).\n",
      "\n",
      "FOR DEVS: If you are overwriting _tracking_metadata in your class, this property has been used to save metadata in the SavedModel. The metadta field will be deprecated soon, so please move the metadata to a different file.\n",
      "Figure(1000x1000)\n"
     ]
    }
   ],
   "source": [
    "# slicing on 4\n",
    "!python3 train_classifier.py"
   ]
  },
  {
   "cell_type": "markdown",
   "metadata": {
    "hidden": true
   },
   "source": [
    "-----\n",
    "\n",
    "From these results, it may appear that the best approach would be to slice VGG at the end either of the first or second stack of convolutional operations, that is at position \"4\". Thus, this will be selected as the best model to perform subsequent operations."
   ]
  },
  {
   "cell_type": "markdown",
   "metadata": {},
   "source": [
    "# Test on Simulated (2004)"
   ]
  },
  {
   "cell_type": "markdown",
   "metadata": {},
   "source": [
    "In order to see the classifier's ability to actually predict cyclones, I decide to test it using another year (2004) of the same data. In this context, the test shall be performed on the classifier trained just with **U850** variable (so data with just one channel)."
   ]
  },
  {
   "cell_type": "code",
   "execution_count": 27,
   "metadata": {
    "ExecuteTime": {
     "end_time": "2021-05-02T18:55:46.198409Z",
     "start_time": "2021-05-02T18:55:46.193337Z"
    }
   },
   "outputs": [],
   "source": [
    "import numpy as np\n",
    "import h5py\n",
    "import matplotlib.pyplot as plt\n",
    "import cartopy.crs as ccrs\n",
    "import seaborn as sns\n",
    "import pandas as pd\n",
    "import matplotlib as mpl\n",
    "# import cv2\n",
    "from datetime import datetime\n",
    "\n",
    "from sklearn.metrics import (roc_curve, auc, classification_report,\n",
    "                             confusion_matrix)\n",
    "\n",
    "from tensorflow.keras.models import load_model, Model\n",
    "from tensorflow.keras.applications.vgg16 import VGG16\n",
    "from tensorflow.keras.applications.vgg16 import preprocess_input\n",
    "from tensorflow.keras.layers import Input, Concatenate\n",
    "\n",
    "# this way I do not have to reshape the data\n",
    "from keras.backend import set_image_data_format, image_data_format\n",
    "from tensorflow.compat.v1 import disable_eager_execution\n",
    "from tensorflow import executing_eagerly\n",
    "from tensorflow.python.compiler.mlcompute import mlcompute\n",
    "\n",
    "# import jtplot submodule from jupyterthemes\n",
    "from jupyterthemes import jtplot\n",
    "\n",
    "set_image_data_format('channels_first')\n",
    "assert image_data_format(\n",
    ") == 'channels_first', \"Plase set keras backend as channels first.\"\n",
    "\n",
    "# APPLE SPECIFIC IMPLEMENTATION\n",
    "disable_eager_execution()\n",
    "assert executing_eagerly(\n",
    ") is False, \"Please do not set to eager execution for this program.\"\n",
    "\n",
    "# Import mlcompute module to use the optional set_mlc_device API for device selection with ML Compute.\n",
    "mlcompute.set_mlc_device(\n",
    "    device_name='gpu')  # Available options are 'cpu', 'gpu', and 'any'.\n",
    "\n",
    "# currently installed theme will be used to\n",
    "# set plot style if no arguments provided\n",
    "# jtplot.style()"
   ]
  },
  {
   "cell_type": "code",
   "execution_count": 2,
   "metadata": {
    "ExecuteTime": {
     "end_time": "2021-05-02T13:15:29.414827Z",
     "start_time": "2021-05-02T13:15:29.412350Z"
    }
   },
   "outputs": [],
   "source": [
    "test_paths = [\"./data.nosync/train_pos_2.h5\", \"./data.nosync/train_neg_2.h5\"]"
   ]
  },
  {
   "cell_type": "code",
   "execution_count": 3,
   "metadata": {
    "ExecuteTime": {
     "end_time": "2021-05-02T13:15:40.488766Z",
     "start_time": "2021-05-02T13:15:29.416917Z"
    }
   },
   "outputs": [],
   "source": [
    "test_data = np.vstack((np.array(h5py.File(test_paths[0])['positive']),\n",
    "                          np.array(h5py.File(test_paths[1])['negative'])))\n",
    "\n",
    "test_labels = np.append(np.zeros(len(h5py.File(test_paths[0])['positive'])) + 1,\n",
    "    np.zeros(len(h5py.File(test_paths[1])['negative'])))"
   ]
  },
  {
   "cell_type": "markdown",
   "metadata": {},
   "source": [
    "Since I am only testing, there is no need to shuffle the data."
   ]
  },
  {
   "cell_type": "code",
   "execution_count": 4,
   "metadata": {
    "ExecuteTime": {
     "end_time": "2021-05-02T13:15:40.984014Z",
     "start_time": "2021-05-02T13:15:40.491173Z"
    }
   },
   "outputs": [],
   "source": [
    "# select only U850\n",
    "test_data = test_data[:,[0], :,:]"
   ]
  },
  {
   "cell_type": "code",
   "execution_count": 5,
   "metadata": {
    "ExecuteTime": {
     "end_time": "2021-05-02T13:15:42.683850Z",
     "start_time": "2021-05-02T13:15:40.986558Z"
    }
   },
   "outputs": [
    {
     "name": "stdout",
     "output_type": "stream",
     "text": [
      "Loading VGG (with concatenation of the single channel)\n",
      "Load pre-trained CNN classifier for cyclons (U850 specific)\n",
      "Since the real data depicts all cyclons, we are sure the correct class to be '1'.\n"
     ]
    }
   ],
   "source": [
    "# this few layer ahead are needed, since the VGG16 classifier takes only 3 channel images\n",
    "# (I just take 3 identical channels)\n",
    "print(\"Loading VGG (with concatenation of the single channel)\")\n",
    "new_input = Input(shape=test_data.shape[1:])\n",
    "img_conc = Concatenate(axis = 1)([new_input, new_input, new_input])  \n",
    "VGG_model = VGG16(include_top=False, input_tensor=img_conc)\n",
    "base_model = Model(inputs = VGG_model.input, outputs = VGG_model.layers[15].output)\n",
    "\n",
    "# the model is loaded. This is the part trained locally\n",
    "print(\"Load pre-trained CNN classifier for cyclons (U850 specific)\")\n",
    "U850_model = load_model(\"./trained_models/model_just_850_4\")\n",
    "\n",
    "print(\n",
    "    \"Since the real data depicts all cyclons, we are sure the correct class to be '1'.\"\n",
    ")\n"
   ]
  },
  {
   "cell_type": "code",
   "execution_count": 6,
   "metadata": {
    "ExecuteTime": {
     "end_time": "2021-05-02T13:17:42.558275Z",
     "start_time": "2021-05-02T13:15:42.686139Z"
    }
   },
   "outputs": [
    {
     "name": "stdout",
     "output_type": "stream",
     "text": [
      "Accuracy on test set\n"
     ]
    },
    {
     "name": "stderr",
     "output_type": "stream",
     "text": [
      "/Users/leonardoalchieri/anaconda3/envs/tf_apple_2/lib/python3.8/site-packages/tensorflow/python/keras/engine/training.py:2325: UserWarning: `Model.state_updates` will be removed in a future version. This property should not be used in TensorFlow 2.0, as `updates` are applied automatically.\n",
      "  warnings.warn('`Model.state_updates` will be removed in a future version. '\n"
     ]
    },
    {
     "name": "stdout",
     "output_type": "stream",
     "text": [
      "ACC: 0.905\n"
     ]
    }
   ],
   "source": [
    "print(\"Accuracy on test set\")\n",
    "print(\"ACC: %.3f\" % (U850_model.evaluate(base_model.predict(test_data), test_labels))[-1])"
   ]
  },
  {
   "cell_type": "markdown",
   "metadata": {},
   "source": [
    "Even on new data (and from a different year), and with just the usage of a single channel, the model manages to achieve very high accuracies. Some plots shall be given."
   ]
  },
  {
   "cell_type": "code",
   "execution_count": 7,
   "metadata": {
    "ExecuteTime": {
     "end_time": "2021-05-02T13:19:41.225592Z",
     "start_time": "2021-05-02T13:17:42.560463Z"
    }
   },
   "outputs": [],
   "source": [
    "predicted_test = U850_model.predict(base_model.predict(test_data))"
   ]
  },
  {
   "cell_type": "code",
   "execution_count": 8,
   "metadata": {
    "ExecuteTime": {
     "end_time": "2021-05-02T13:19:41.234582Z",
     "start_time": "2021-05-02T13:19:41.227347Z"
    }
   },
   "outputs": [],
   "source": [
    "fpr_keras, tpr_keras, thresholds_keras = roc_curve(test_labels, predicted_test)\n",
    "auc_keras = auc(fpr_keras, tpr_keras)"
   ]
  },
  {
   "cell_type": "code",
   "execution_count": 17,
   "metadata": {
    "ExecuteTime": {
     "end_time": "2021-05-02T18:40:59.891481Z",
     "start_time": "2021-05-02T18:40:59.629130Z"
    }
   },
   "outputs": [
    {
     "name": "stdout",
     "output_type": "stream",
     "text": [
      "ROC curve plot\n"
     ]
    },
    {
     "data": {
      "image/png": "[encoded data removed]",
      "text/plain": [
       "<Figure size 576x576 with 1 Axes>"
      ]
     },
     "metadata": {
      "needs_background": "light"
     },
     "output_type": "display_data"
    }
   ],
   "source": [
    "print(\"ROC curve plot\")\n",
    "plt.figure(figsize = (8,8))\n",
    "plt.plot([0, 1], [0, 1], 'k--')\n",
    "plt.plot(fpr_keras, tpr_keras, label='U850 classifier (area = {:.3f})'.format(auc_keras))\n",
    "plt.xlabel('False positive rate')\n",
    "plt.ylabel('True positive rate')\n",
    "plt.title('ROC curve')\n",
    "plt.legend(loc='best')\n",
    "\n",
    "plt.savefig(\"./images/ROC.pdf\")\n",
    "plt.show()\n",
    "plt.close()"
   ]
  },
  {
   "cell_type": "code",
   "execution_count": 10,
   "metadata": {
    "ExecuteTime": {
     "end_time": "2021-05-02T13:19:41.497223Z",
     "start_time": "2021-05-02T13:19:41.494389Z"
    }
   },
   "outputs": [
    {
     "name": "stdout",
     "output_type": "stream",
     "text": [
      "Test set size: 12381\n"
     ]
    }
   ],
   "source": [
    "print(\"Test set size: %i\" %(test_data.shape[0]))"
   ]
  },
  {
   "cell_type": "code",
   "execution_count": 16,
   "metadata": {
    "ExecuteTime": {
     "end_time": "2021-05-02T18:40:24.972739Z",
     "start_time": "2021-05-02T18:40:24.969759Z"
    }
   },
   "outputs": [
    {
     "name": "stdout",
     "output_type": "stream",
     "text": [
      "Optimal Threshold according to Youden's J-score: 0.419\n"
     ]
    }
   ],
   "source": [
    "optimal_idx = np.argmax(tpr_keras - fpr_keras)\n",
    "optimal_threshold = thresholds_keras[optimal_idx]\n",
    "print(\"Optimal Threshold according to Youden's J-score: %.3f\" %(optimal_threshold))"
   ]
  },
  {
   "cell_type": "code",
   "execution_count": 26,
   "metadata": {
    "ExecuteTime": {
     "end_time": "2021-05-02T18:52:24.736753Z",
     "start_time": "2021-05-02T18:52:24.528225Z"
    }
   },
   "outputs": [
    {
     "data": {
      "image/png": "[encoded data removed]",
      "text/plain": [
       "<Figure size 432x288 with 2 Axes>"
      ]
     },
     "metadata": {
      "needs_background": "light"
     },
     "output_type": "display_data"
    }
   ],
   "source": [
    "cm = confusion_matrix(test_labels, (predicted_test + optimal_threshold).astype(int))\n",
    "classes = ['Cyclone', 'No Cyclone']\n",
    "\n",
    "fig, ax = plt.subplots()\n",
    "im = ax.imshow(cm, cmap=plt.cm.Blues)\n",
    "\n",
    "ax.figure.colorbar(im, ax=ax)\n",
    "ax.set(xticks=np.arange(cm.shape[1]),\n",
    "       yticks=np.arange(cm.shape[0]),\n",
    "       xticklabels=classes,\n",
    "       yticklabels=classes,\n",
    "       ylabel='True label',\n",
    "       xlabel='Predicted label')\n",
    "\n",
    "for i in range(cm.shape[0]):\n",
    "    for j in range(cm.shape[1]):\n",
    "        ax.text(j, i, format(cm[i, j], 'd'),\n",
    "                ha=\"center\", va=\"center\",\n",
    "                color=\"white\" if cm[i, j] > cm.max() / 2. else \"black\")\n",
    "plt.savefig(\"./images/confusion_matrix_test.pdf\")\n",
    "plt.show()\n",
    "plt.close()"
   ]
  },
  {
   "cell_type": "markdown",
   "metadata": {},
   "source": [
    "As can be seen from the confusion matrix, the algorithm classifies non-cyclones are cyclones far more likely than the opposite, that is the amount of **false negative** is much smaller than that of **false positives**. Given the task at hand, this result is quite remarkable, since it is much safer to classify a non-cyclone image as having a cyclone than the opposite. \n",
    "\n",
    "Also, in a real-world scenario, the usage of image-recognition techniques, e.g. see if the cyclone is detected in consecutive days, could be applied."
   ]
  },
  {
   "cell_type": "code",
   "execution_count": 30,
   "metadata": {
    "ExecuteTime": {
     "end_time": "2021-05-02T18:56:05.621426Z",
     "start_time": "2021-05-02T18:56:05.595443Z"
    }
   },
   "outputs": [
    {
     "name": "stdout",
     "output_type": "stream",
     "text": [
      "              precision    recall  f1-score   support\n",
      "\n",
      "         0.0       0.88      0.94      0.91      6337\n",
      "         1.0       0.93      0.87      0.90      6044\n",
      "\n",
      "    accuracy                           0.90     12381\n",
      "   macro avg       0.91      0.90      0.90     12381\n",
      "weighted avg       0.91      0.90      0.90     12381\n",
      "\n"
     ]
    }
   ],
   "source": [
    "print(classification_report(test_labels, (predicted_test + optimal_threshold).astype(int)))"
   ]
  }
 ],
 "metadata": {
  "hide_input": false,
  "kernelspec": {
   "display_name": "Python 3",
   "language": "python",
   "name": "python3"
  },
  "language_info": {
   "codemirror_mode": {
    "name": "ipython",
    "version": 3
   },
   "file_extension": ".py",
   "mimetype": "text/x-python",
   "name": "python",
   "nbconvert_exporter": "python",
   "pygments_lexer": "ipython3",
   "version": "3.7.7"
  },
  "toc": {
   "base_numbering": 1,
   "nav_menu": {},
   "number_sections": true,
   "sideBar": true,
   "skip_h1_title": false,
   "title_cell": "Table of Contents",
   "title_sidebar": "Contents",
   "toc_cell": false,
   "toc_position": {},
   "toc_section_display": true,
   "toc_window_display": false
  }
 },
 "nbformat": 4,
 "nbformat_minor": 5
}
